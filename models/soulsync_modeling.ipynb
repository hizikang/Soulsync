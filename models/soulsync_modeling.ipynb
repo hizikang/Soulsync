{
  "nbformat": 4,
  "nbformat_minor": 0,
  "metadata": {
    "colab": {
      "private_outputs": true,
      "provenance": [],
      "gpuType": "T4",
      "authorship_tag": "ABX9TyOODPwtgK+oc13v8IuYY05h",
      "include_colab_link": true
    },
    "kernelspec": {
      "name": "python3",
      "display_name": "Python 3"
    },
    "language_info": {
      "name": "python"
    },
    "accelerator": "GPU"
  },
  "cells": [
    {
      "cell_type": "markdown",
      "metadata": {
        "id": "view-in-github",
        "colab_type": "text"
      },
      "source": [
        "<a href=\"https://colab.research.google.com/github/hzzz15/Soulsync/blob/main/models/soulsync_modeling.ipynb\" target=\"_parent\"><img src=\"https://colab.research.google.com/assets/colab-badge.svg\" alt=\"Open In Colab\"/></a>"
      ]
    },
    {
      "cell_type": "markdown",
      "source": [
        "1. 코랩 환경 설정 및 라이브러리 설치"
      ],
      "metadata": {
        "id": "L41Nx3AcClFo"
      }
    },
    {
      "cell_type": "code",
      "source": [
        "import torch\n",
        "device = torch.device(\"cuda\" if torch.cuda.is_available() else \"cpu\")\n",
        "print(\"Using device:\", device)"
      ],
      "metadata": {
        "id": "aSyUwKerCpc_"
      },
      "execution_count": null,
      "outputs": []
    },
    {
      "cell_type": "code",
      "source": [
        "!pip install transformers datasets sentencepiece --upgrade"
      ],
      "metadata": {
        "id": "fuSQLFenCs52"
      },
      "execution_count": null,
      "outputs": []
    },
    {
      "cell_type": "code",
      "source": [
        "!git clone https://github.com/SKTBrain/KoBERT.git\n",
        "%cd KoBERT/kobert_hf\n",
        "!pip install . --no-deps"
      ],
      "metadata": {
        "id": "JlbQmDsTCvTe"
      },
      "execution_count": null,
      "outputs": []
    },
    {
      "cell_type": "code",
      "source": [
        "# 기본 import\n",
        "import pandas as pd\n",
        "import numpy as np\n",
        "import torch\n",
        "import torch.nn as nn\n",
        "from torch.utils.data import Dataset, DataLoader\n",
        "from transformers import get_cosine_schedule_with_warmup\n",
        "from torch.optim import AdamW\n",
        "from kobert_tokenizer import KoBERTTokenizer"
      ],
      "metadata": {
        "id": "LfGAIMrGCyCe"
      },
      "execution_count": null,
      "outputs": []
    },
    {
      "cell_type": "code",
      "source": [
        "# 모델 및 토크나이저 불러오기\n",
        "tokenizer = KoBERTTokenizer.from_pretrained('skt/kobert-base-v1')\n",
        "bert_model = BertModel.from_pretrained('skt/kobert-base-v1')"
      ],
      "metadata": {
        "id": "QoSkmVXwCzxr"
      },
      "execution_count": null,
      "outputs": []
    },
    {
      "cell_type": "markdown",
      "source": [
        "2. 데이터 전처리 및 라벨 인코딩"
      ],
      "metadata": {
        "id": "ERNI11aGHERB"
      }
    },
    {
      "cell_type": "code",
      "source": [
        "# 구글 드라이브 연동\n",
        "from google.colab import drive\n",
        "drive.mount('/content/drive')"
      ],
      "metadata": {
        "id": "DJ6fvF3jHHQL"
      },
      "execution_count": null,
      "outputs": []
    },
    {
      "cell_type": "code",
      "source": [
        "# csv 파일\n",
        "import pandas as pd\n",
        "\n",
        "# CSV 파일 경로 (로컬 업로드한 경우)\n",
        "file_path = '/content/merged_full_dataset.csv'\n",
        "\n",
        "# 파일 불러오기\n",
        "df = pd.read_csv(file_path)\n",
        "df.head()"
      ],
      "metadata": {
        "id": "mub9UO4vHc7P"
      },
      "execution_count": null,
      "outputs": []
    },
    {
      "cell_type": "code",
      "source": [
        "# 감정 문자열을 숫자로 매핑\n",
        "emotion_label_map = {\n",
        "    \"행복\": 0,\n",
        "    \"놀람\": 1,\n",
        "    \"분노\": 2,\n",
        "    \"공포\": 3,\n",
        "    \"혐오\": 4,\n",
        "    \"슬픔\": 5,\n",
        "    \"중립\": 6\n",
        "}\n",
        "\n",
        "df[\"label\"] = df[\"Emotion\"].map(emotion_label_map)\n",
        "df = df[[\"Sentence\", \"label\"]].dropna()\n",
        "df.head()"
      ],
      "metadata": {
        "id": "qwGE5JRRHfKE"
      },
      "execution_count": null,
      "outputs": []
    },
    {
      "cell_type": "code",
      "source": [
        "# 문장, 라벨을 리스트로 구성\n",
        "data_list = []\n",
        "for sentence, label in zip(df[\"Sentence\"], df[\"label\"]):\n",
        "    data_list.append([sentence, int(label)])\n",
        "\n",
        "print(f\"전체 샘플 수: {len(data_list)}\")\n",
        "print(data_list[:3])"
      ],
      "metadata": {
        "id": "NXcQe9w8HqVo"
      },
      "execution_count": null,
      "outputs": []
    },
    {
      "cell_type": "code",
      "source": [
        "# train/test 분리\n",
        "from sklearn.model_selection import train_test_split\n",
        "\n",
        "train_data, test_data = train_test_split(data_list, test_size=0.2, random_state=42)\n",
        "print(f\"Train: {len(train_data)}, Test: {len(test_data)}\")"
      ],
      "metadata": {
        "id": "az_PN2x6Hum7"
      },
      "execution_count": null,
      "outputs": []
    },
    {
      "cell_type": "markdown",
      "source": [
        "3. KoBERT용 Dataset 및 DataLoader 정의"
      ],
      "metadata": {
        "id": "iwaFDEU9IXiv"
      }
    },
    {
      "cell_type": "code",
      "source": [
        "# BERTSentenceTransform 정의\n",
        "import numpy as np\n",
        "from torch.utils.data import Dataset\n",
        "\n",
        "class BERTSentenceTransform:\n",
        "    def __init__(self, tokenizer, max_seq_length, pad=True, pair=False):\n",
        "        self.tokenizer = tokenizer\n",
        "        self.max_seq_length = max_seq_length\n",
        "        self.pad = pad\n",
        "        self.pair = pair\n",
        "\n",
        "    def __call__(self, line):\n",
        "        text = line[0]\n",
        "        tokens = self.tokenizer.tokenize(text)\n",
        "\n",
        "        # Truncate\n",
        "        if len(tokens) > self.max_seq_length - 2:\n",
        "            tokens = tokens[:self.max_seq_length - 2]\n",
        "\n",
        "        tokens = ['[CLS]'] + tokens + ['[SEP]']\n",
        "        segment_ids = [0] * len(tokens)\n",
        "        input_ids = self.tokenizer.convert_tokens_to_ids(tokens)\n",
        "        valid_length = len(input_ids)\n",
        "\n",
        "        if self.pad:\n",
        "            pad_len = self.max_seq_length - valid_length\n",
        "            input_ids += [self.tokenizer.convert_tokens_to_ids(['[PAD]'])[0]] * pad_len\n",
        "            segment_ids += [0] * pad_len\n",
        "\n",
        "        return np.array(input_ids, dtype=np.int32), \\\n",
        "               np.array(valid_length, dtype=np.int32), \\\n",
        "               np.array(segment_ids, dtype=np.int32)"
      ],
      "metadata": {
        "id": "-ZpHMFUFIaPW"
      },
      "execution_count": null,
      "outputs": []
    },
    {
      "cell_type": "code",
      "source": [
        "# BERTDataset 정의\n",
        "class BERTDataset(Dataset):\n",
        "    def __init__(self, dataset, sent_idx, label_idx, tokenizer, max_len, pad, pair):\n",
        "        self.transform = BERTSentenceTransform(tokenizer, max_seq_length=max_len, pad=pad, pair=pair)\n",
        "        self.sentences = [self.transform([i[sent_idx]]) for i in dataset]\n",
        "        self.labels = [np.int32(i[label_idx]) for i in dataset]\n",
        "\n",
        "    def __getitem__(self, i):\n",
        "        return (*self.sentences[i], self.labels[i])\n",
        "\n",
        "    def __len__(self):\n",
        "        return len(self.labels)\n"
      ],
      "metadata": {
        "id": "uVfZKDNTIeBn"
      },
      "execution_count": null,
      "outputs": []
    },
    {
      "cell_type": "code",
      "source": [
        "# 데이터로더 구성\n",
        "from torch.utils.data import DataLoader\n",
        "\n",
        "# 하이퍼파라미터 설정\n",
        "max_len = 64\n",
        "batch_size = 32\n",
        "\n",
        "# Dataset 생성\n",
        "train_dataset = BERTDataset(train_data, 0, 1, tokenizer, max_len, True, False)\n",
        "test_dataset = BERTDataset(test_data, 0, 1, tokenizer, max_len, True, False)\n",
        "\n",
        "# DataLoader\n",
        "train_dataloader = DataLoader(train_dataset, batch_size=batch_size, shuffle=True, num_workers=2)\n",
        "test_dataloader = DataLoader(test_dataset, batch_size=batch_size, shuffle=False, num_workers=2)"
      ],
      "metadata": {
        "id": "btfeE5nKIh0m"
      },
      "execution_count": null,
      "outputs": []
    },
    {
      "cell_type": "code",
      "source": [
        "# 확인\n",
        "sample = next(iter(train_dataloader))\n",
        "print(\"input_ids:\", sample[0].shape)\n",
        "print(\"valid_length:\", sample[1].shape)\n",
        "print(\"segment_ids:\", sample[2].shape)\n",
        "print(\"labels:\", sample[3].shape)"
      ],
      "metadata": {
        "id": "KAwhTQykIkrE"
      },
      "execution_count": null,
      "outputs": []
    },
    {
      "cell_type": "markdown",
      "source": [
        "4. KoBERT 모델 정의 + Optimizer & Scheduler 설정"
      ],
      "metadata": {
        "id": "HZ6jf0-OItgV"
      }
    },
    {
      "cell_type": "code",
      "source": [
        "# KoBERT 모델 정의\n",
        "import torch.nn as nn\n",
        "import torch\n",
        "\n",
        "class BERTClassifier(nn.Module):\n",
        "    def __init__(self,\n",
        "                 bert,\n",
        "                 hidden_size=768,\n",
        "                 num_classes=7,\n",
        "                 dr_rate=None):\n",
        "        super(BERTClassifier, self).__init__()\n",
        "        self.bert = bert\n",
        "        self.dr_rate = dr_rate\n",
        "        self.classifier = nn.Linear(hidden_size, num_classes)\n",
        "        if dr_rate:\n",
        "            self.dropout = nn.Dropout(p=dr_rate)\n",
        "\n",
        "    def gen_attention_mask(self, token_ids, valid_length):\n",
        "        attention_mask = torch.zeros_like(token_ids)\n",
        "        for i, v in enumerate(valid_length):\n",
        "            attention_mask[i][:v] = 1\n",
        "        return attention_mask.float()\n",
        "\n",
        "    def forward(self, token_ids, valid_length, segment_ids):\n",
        "        attention_mask = self.gen_attention_mask(token_ids, valid_length)\n",
        "        _, pooled_output = self.bert(\n",
        "            input_ids=token_ids,\n",
        "            token_type_ids=segment_ids.long(),\n",
        "            attention_mask=attention_mask.to(token_ids.device),\n",
        "            return_dict=False\n",
        "        )\n",
        "        if self.dr_rate:\n",
        "            pooled_output = self.dropout(pooled_output)\n",
        "        return self.classifier(pooled_output)"
      ],
      "metadata": {
        "id": "JjYqCoRVIwAL"
      },
      "execution_count": null,
      "outputs": []
    },
    {
      "cell_type": "code",
      "source": [
        "# 모델 객체 생성\n",
        "model = BERTClassifier(bert_model, dr_rate=0.5).to(device)\n",
        "loss_fn = nn.CrossEntropyLoss()"
      ],
      "metadata": {
        "id": "vZYaSTbNIz0_"
      },
      "execution_count": null,
      "outputs": []
    },
    {
      "cell_type": "code",
      "source": [
        "# Optimizer 수정\n",
        "from torch.optim import AdamW\n",
        "\n",
        "learning_rate = 5e-5\n",
        "epochs = 5\n",
        "max_grad_norm = 1.0\n",
        "\n",
        "optimizer = AdamW(model.parameters(), lr=learning_rate, weight_decay=0.01)"
      ],
      "metadata": {
        "id": "T6fnzBNWI1Xz"
      },
      "execution_count": null,
      "outputs": []
    },
    {
      "cell_type": "code",
      "source": [
        "# Scheduler 정의\n",
        "from transformers import get_cosine_schedule_with_warmup\n",
        "\n",
        "total_steps = len(train_dataloader) * epochs\n",
        "warmup_steps = int(total_steps * 0.1)\n",
        "\n",
        "scheduler = get_cosine_schedule_with_warmup(\n",
        "    optimizer,\n",
        "    num_warmup_steps=warmup_steps,\n",
        "    num_training_steps=total_steps\n",
        ")"
      ],
      "metadata": {
        "id": "0piSxO02I7Lw"
      },
      "execution_count": null,
      "outputs": []
    },
    {
      "cell_type": "markdown",
      "source": [
        "5. KoBERT 학습 루프 + 중간 저장 기능(checkpoint)"
      ],
      "metadata": {
        "id": "Sy5WffGSJYir"
      }
    },
    {
      "cell_type": "code",
      "source": [
        "# Accuracy 계산\n",
        "def calc_accuracy(preds, labels):\n",
        "    _, pred_max = torch.max(preds, 1)\n",
        "    correct = (pred_max == labels).sum().item()\n",
        "    return correct / len(labels)"
      ],
      "metadata": {
        "id": "-j05glEcJcmk"
      },
      "execution_count": null,
      "outputs": []
    },
    {
      "cell_type": "code",
      "source": [
        "# 모델 저장\n",
        "def save_checkpoint(model, optimizer, epoch, path):\n",
        "    checkpoint = {\n",
        "        'epoch': epoch,\n",
        "        'model_state_dict': model.state_dict(),\n",
        "        'optimizer_state_dict': optimizer.state_dict()\n",
        "    }\n",
        "    torch.save(checkpoint, path)"
      ],
      "metadata": {
        "id": "vFxsLdVIJf2U"
      },
      "execution_count": null,
      "outputs": []
    },
    {
      "cell_type": "code",
      "source": [
        "from tqdm import tqdm\n",
        "import torch.nn.functional as F\n",
        "import torch\n",
        "\n",
        "def calc_accuracy(preds, labels):\n",
        "    _, pred_max = torch.max(preds, 1)\n",
        "    correct = (pred_max == labels).sum().item()\n",
        "    return correct / len(labels)\n",
        "\n",
        "def save_checkpoint(model, optimizer, epoch, path=\"./kobert_best.pt\"):\n",
        "    checkpoint = {\n",
        "        'epoch': epoch,\n",
        "        'model_state_dict': model.state_dict(),\n",
        "        'optimizer_state_dict': optimizer.state_dict()\n",
        "    }\n",
        "    torch.save(checkpoint, path)\n",
        "\n",
        "best_val_acc = 0.0\n",
        "\n",
        "for epoch in range(epochs):\n",
        "    model.train()\n",
        "    total_loss = 0\n",
        "    train_acc = 0\n",
        "\n",
        "    for batch in tqdm(train_dataloader):\n",
        "        token_ids, valid_length, segment_ids, label = [x.to(device) for x in batch]\n",
        "        label = label.long()  # CrossEntropyLoss는 long 타입 라벨 필요\n",
        "\n",
        "        optimizer.zero_grad()\n",
        "        out = model(token_ids, valid_length, segment_ids)\n",
        "\n",
        "        loss = loss_fn(out, label)\n",
        "        loss.backward()\n",
        "        torch.nn.utils.clip_grad_norm_(model.parameters(), max_grad_norm)\n",
        "        optimizer.step()\n",
        "        scheduler.step()\n",
        "\n",
        "        total_loss += loss.item()\n",
        "        train_acc += calc_accuracy(out, label)\n",
        "\n",
        "    avg_train_loss = total_loss / len(train_dataloader)\n",
        "    avg_train_acc = train_acc / len(train_dataloader)\n",
        "    print(f\"\\n[Epoch {epoch+1}] Train loss: {avg_train_loss:.4f}, Train acc: {avg_train_acc:.4f}\")\n",
        "\n",
        "    # Validation\n",
        "    model.eval()\n",
        "    val_loss = 0\n",
        "    val_acc = 0\n",
        "\n",
        "    with torch.no_grad():\n",
        "        for batch in test_dataloader:\n",
        "            token_ids, valid_length, segment_ids, label = [x.to(device) for x in batch]\n",
        "            label = label.long()\n",
        "\n",
        "            out = model(token_ids, valid_length, segment_ids)\n",
        "            loss = loss_fn(out, label)\n",
        "\n",
        "            val_loss += loss.item()\n",
        "            val_acc += calc_accuracy(out, label)\n",
        "\n",
        "    avg_val_loss = val_loss / len(test_dataloader)\n",
        "    avg_val_acc = val_acc / len(test_dataloader)\n",
        "    print(f\"[Epoch {epoch+1}] Val loss: {avg_val_loss:.4f}, Val acc: {avg_val_acc:.4f}\")\n",
        "\n",
        "    # Checkpoint\n",
        "    if avg_val_acc > best_val_acc:\n",
        "        best_val_acc = avg_val_acc\n",
        "        save_checkpoint(model, optimizer, epoch+1)\n",
        "        print(f\"Best model saved at epoch {epoch+1}\")\n"
      ],
      "metadata": {
        "id": "wwxlvWlUJiFJ"
      },
      "execution_count": null,
      "outputs": []
    },
    {
      "cell_type": "code",
      "source": [
        "# 모델 로드 시\n",
        "checkpoint = torch.load(\"./kobert_best.pt\", map_location=device)\n",
        "model.load_state_dict(checkpoint[\"model_state_dict\"])\n",
        "optimizer.load_state_dict(checkpoint[\"optimizer_state_dict\"])\n",
        "start_epoch = checkpoint[\"epoch\"]"
      ],
      "metadata": {
        "id": "59pLrHM-Jlmq"
      },
      "execution_count": null,
      "outputs": []
    },
    {
      "cell_type": "markdown",
      "source": [
        "6. 문장 -> 감정 예측 함수"
      ],
      "metadata": {
        "id": "A4zyrxuHVk7V"
      }
    },
    {
      "cell_type": "code",
      "source": [
        "# 숫자 → 감정 문자열\n",
        "id2label = {\n",
        "    0: \"행복\",\n",
        "    1: \"놀람\",\n",
        "    2: \"분노\",\n",
        "    3: \"공포\",\n",
        "    4: \"혐오\",\n",
        "    5: \"슬픔\",\n",
        "    6: \"중립\"\n",
        "}"
      ],
      "metadata": {
        "id": "HVjYa2MjVnny"
      },
      "execution_count": null,
      "outputs": []
    },
    {
      "cell_type": "code",
      "source": [
        "def predict_emotion(sentence, model, tokenizer, max_len=64):\n",
        "    model.eval()\n",
        "\n",
        "    # 입력 문장을 KoBERT용 포맷으로 변환\n",
        "    transform = BERTSentenceTransform(tokenizer, max_seq_length=max_len, pad=True, pair=False)\n",
        "    input_ids, valid_length, segment_ids = transform([sentence])\n",
        "\n",
        "    # valid_length -> int로 변환\n",
        "    input_ids = torch.tensor([input_ids]).to(device)\n",
        "    valid_length = torch.tensor([int(valid_length)]).to(device)\n",
        "    segment_ids = torch.tensor([segment_ids]).to(device)\n",
        "\n",
        "    # 예측 수행\n",
        "    with torch.no_grad():\n",
        "        output = model(input_ids, valid_length, segment_ids)\n",
        "        predicted = torch.argmax(output, dim=1).item()\n",
        "        emotion = id2label[predicted]\n",
        "\n",
        "    print(f\"예측된 감정: {emotion}\")\n",
        "    return emotion"
      ],
      "metadata": {
        "id": "JJQdfCuhVpFz"
      },
      "execution_count": null,
      "outputs": []
    },
    {
      "cell_type": "code",
      "source": [
        "# 모델 객체 생성 후 로드\n",
        "model = BERTClassifier(bert_model, dr_rate=0.5).to(device)\n",
        "checkpoint = torch.load(\"./kobert_best.pt\", map_location=device)\n",
        "model.load_state_dict(checkpoint['model_state_dict'])"
      ],
      "metadata": {
        "id": "bFeBG55LV0Fj"
      },
      "execution_count": null,
      "outputs": []
    },
    {
      "cell_type": "code",
      "source": [
        "# 예시\n",
        "predict_emotion(\"이 노래 너무 좋아서 눈물이 나요\", model, tokenizer)\n",
        "predict_emotion(\"뭐야 이게 왜 이래?\", model, tokenizer)"
      ],
      "metadata": {
        "id": "lXL4D3UJVukE"
      },
      "execution_count": null,
      "outputs": []
    },
    {
      "cell_type": "markdown",
      "source": [
        "7. 저장"
      ],
      "metadata": {
        "id": "kNyAT9ePWdWB"
      }
    },
    {
      "cell_type": "code",
      "source": [
        "# Colab에서 모델 저장\n",
        "torch.save({\n",
        "    'model_state_dict': model.state_dict(),\n",
        "}, 'soulsync_model.pt')"
      ],
      "metadata": {
        "id": "3yUt9U1jWj9N"
      },
      "execution_count": null,
      "outputs": []
    },
    {
      "cell_type": "code",
      "source": [
        "# 모델 구조 정의도 저장\n",
        "import torch.nn as nn\n",
        "import torch\n",
        "\n",
        "class BERTClassifier(nn.Module):\n",
        "    def __init__(self, bert, hidden_size=768, num_classes=7, dr_rate=None):\n",
        "        super(BERTClassifier, self).__init__()\n",
        "        self.bert = bert\n",
        "        self.dr_rate = dr_rate\n",
        "        self.classifier = nn.Linear(hidden_size, num_classes)\n",
        "        if dr_rate:\n",
        "            self.dropout = nn.Dropout(p=dr_rate)\n",
        "\n",
        "    def gen_attention_mask(self, token_ids, valid_length):\n",
        "        attention_mask = torch.zeros_like(token_ids)\n",
        "        for i, v in enumerate(valid_length):\n",
        "            attention_mask[i][:v] = 1\n",
        "        return attention_mask.float()\n",
        "\n",
        "    def forward(self, token_ids, valid_length, segment_ids):\n",
        "        attention_mask = self.gen_attention_mask(token_ids, valid_length)\n",
        "        _, pooled_output = self.bert(input_ids=token_ids,\n",
        "                                     token_type_ids=segment_ids.long(),\n",
        "                                     attention_mask=attention_mask.to(token_ids.device),\n",
        "                                     return_dict=False)\n",
        "        if self.dr_rate:\n",
        "            pooled_output = self.dropout(pooled_output)\n",
        "        return self.classifier(pooled_output)"
      ],
      "metadata": {
        "id": "H5Oh50VIW3_l"
      },
      "execution_count": null,
      "outputs": []
    },
    {
      "cell_type": "code",
      "source": [
        "# 다운로드\n",
        "from google.colab import files\n",
        "files.download('soulsync_model.pt')\n",
        "files.download('soulsync_model.py')"
      ],
      "metadata": {
        "id": "TyEm6M5BW7Nn"
      },
      "execution_count": null,
      "outputs": []
    }
  ]
}