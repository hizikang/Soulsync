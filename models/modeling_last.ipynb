{
  "nbformat": 4,
  "nbformat_minor": 0,
  "metadata": {
    "colab": {
      "private_outputs": true,
      "provenance": [],
      "gpuType": "T4",
      "authorship_tag": "ABX9TyOOtZ0E7n1hRztI41P5LnIw",
      "include_colab_link": true
    },
    "kernelspec": {
      "name": "python3",
      "display_name": "Python 3"
    },
    "language_info": {
      "name": "python"
    },
    "accelerator": "GPU"
  },
  "cells": [
    {
      "cell_type": "markdown",
      "metadata": {
        "id": "view-in-github",
        "colab_type": "text"
      },
      "source": [
        "<a href=\"https://colab.research.google.com/github/hzzz15/Soulsync/blob/model/modeling_last.ipynb\" target=\"_parent\"><img src=\"https://colab.research.google.com/assets/colab-badge.svg\" alt=\"Open In Colab\"/></a>"
      ]
    },
    {
      "cell_type": "markdown",
      "source": [
        "1. Colab 환경 설정 및 라이브러리 설치"
      ],
      "metadata": {
        "id": "LpVAP4nQg1bA"
      }
    },
    {
      "cell_type": "code",
      "source": [
        "import torch\n",
        "device = torch.device(\"cuda\" if torch.cuda.is_available() else \"cpu\")\n",
        "print(\"Using device:\", device)"
      ],
      "metadata": {
        "id": "Qnp_YKUuhAEP"
      },
      "execution_count": null,
      "outputs": []
    },
    {
      "cell_type": "code",
      "source": [
        "!pip install transformers datasets sentencepiece --upgrade\n",
        "!git clone https://github.com/SKTBrain/KoBERT.git\n",
        "%cd KoBERT/kobert_hf\n",
        "!pip install . --no-deps\n",
        "%cd /content"
      ],
      "metadata": {
        "id": "4UYTKUMVhBl6"
      },
      "execution_count": null,
      "outputs": []
    },
    {
      "cell_type": "markdown",
      "source": [
        "2. 기본 import 및 토크나이저, 모델 로드"
      ],
      "metadata": {
        "id": "sjhtGRZmhDeg"
      }
    },
    {
      "cell_type": "code",
      "source": [
        "import pandas as pd\n",
        "import numpy as np\n",
        "import torch.nn as nn\n",
        "from torch.utils.data import Dataset, DataLoader\n",
        "from transformers import get_cosine_schedule_with_warmup, AutoTokenizer, BertModel, AutoConfig\n",
        "from torch.optim import AdamW\n",
        "from kobert_tokenizer import KoBERTTokenizer\n",
        "\n",
        "# tokenizer와 bert backbone\n",
        "tokenizer = KoBERTTokenizer.from_pretrained('skt/kobert-base-v1')\n",
        "bert_model = BertModel.from_pretrained('skt/kobert-base-v1')"
      ],
      "metadata": {
        "id": "QXDFVNNphFbe"
      },
      "execution_count": null,
      "outputs": []
    },
    {
      "cell_type": "markdown",
      "source": [
        "3. 하이퍼파라미터 정의"
      ],
      "metadata": {
        "id": "8SQWyo2chIJo"
      }
    },
    {
      "cell_type": "code",
      "source": [
        "# 하이퍼파라미터 설정\n",
        "max_len = 64\n",
        "batch_size = 32\n",
        "learning_rate = 5e-5\n",
        "epochs = 5\n",
        "max_grad_norm = 1.0"
      ],
      "metadata": {
        "id": "OB0SJDlchHLt"
      },
      "execution_count": null,
      "outputs": []
    },
    {
      "cell_type": "markdown",
      "source": [
        "4. 데이터 로딩 및 전처리"
      ],
      "metadata": {
        "id": "FvF8OkeOhMKK"
      }
    },
    {
      "cell_type": "code",
      "source": [
        "# 데이터 불러오기\n",
        "import pandas as pd\n",
        "file_path = '/content/merged_full_dataset.csv'\n",
        "\n",
        "# 파일 불러오기\n",
        "df = pd.read_csv(file_path)\n",
        "df.head()\n",
        "\n",
        "# 감정 문자열 → 숫자 매핑\n",
        "emotion_label_map = {\n",
        "    \"행복\": 0, \"놀람\": 1, \"분노\": 2, \"공포\": 3, \"혐오\": 4, \"슬픔\": 5, \"중립\": 6\n",
        "}\n",
        "df[\"label\"] = df[\"Emotion\"].map(emotion_label_map)\n",
        "df = df[[\"Sentence\", \"label\"]].dropna()\n",
        "\n",
        "# 리스트화\n",
        "data_list = [[s, int(l)] for s, l in zip(df[\"Sentence\"], df[\"label\"])]\n",
        "\n",
        "# train/test 분리\n",
        "from sklearn.model_selection import train_test_split\n",
        "train_data, test_data = train_test_split(data_list, test_size=0.2, random_state=42)"
      ],
      "metadata": {
        "id": "z5r46vqOhNqv"
      },
      "execution_count": null,
      "outputs": []
    },
    {
      "cell_type": "markdown",
      "source": [
        "5. Dataset, DataLoader 정의"
      ],
      "metadata": {
        "id": "Qua1W55UhZ3u"
      }
    },
    {
      "cell_type": "code",
      "source": [
        "class BERTSentenceTransform:\n",
        "    def __init__(self, tokenizer, max_seq_length, pad=True, pair=False):\n",
        "        self.tokenizer = tokenizer\n",
        "        self.max_seq_length = max_seq_length\n",
        "        self.pad = pad\n",
        "        self.pair = pair\n",
        "\n",
        "    def __call__(self, line):\n",
        "        text = line[0]\n",
        "        tokens = self.tokenizer.tokenize(text)\n",
        "        tokens = ['[CLS]'] + tokens[:self.max_seq_length - 2] + ['[SEP]']\n",
        "        segment_ids = [0] * len(tokens)\n",
        "        input_ids = self.tokenizer.convert_tokens_to_ids(tokens)\n",
        "        valid_length = len(input_ids)\n",
        "        pad_len = self.max_seq_length - valid_length\n",
        "        input_ids += [self.tokenizer.convert_tokens_to_ids(['[PAD]'])[0]] * pad_len\n",
        "        segment_ids += [0] * pad_len\n",
        "        return np.array(input_ids), np.array(valid_length), np.array(segment_ids)\n",
        "\n",
        "class BERTDataset(Dataset):\n",
        "    def __init__(self, dataset, sent_idx, label_idx, tokenizer, max_len, pad, pair):\n",
        "        self.transform = BERTSentenceTransform(tokenizer, max_seq_length=max_len, pad=pad, pair=pair)\n",
        "        self.sentences = [self.transform([i[sent_idx]]) for i in dataset]\n",
        "        self.labels = [np.int32(i[label_idx]) for i in dataset]\n",
        "    def __getitem__(self, i):\n",
        "        return (*self.sentences[i], self.labels[i])\n",
        "    def __len__(self):\n",
        "        return len(self.labels)"
      ],
      "metadata": {
        "id": "EvXg_W1mheU0"
      },
      "execution_count": null,
      "outputs": []
    },
    {
      "cell_type": "code",
      "source": [
        "train_dataset = BERTDataset(train_data, 0, 1, tokenizer, max_len, True, False)\n",
        "test_dataset = BERTDataset(test_data, 0, 1, tokenizer, max_len, True, False)\n",
        "\n",
        "train_dataloader = DataLoader(train_dataset, batch_size=batch_size, shuffle=True, num_workers=2)\n",
        "test_dataloader = DataLoader(test_dataset, batch_size=batch_size, shuffle=False, num_workers=2)"
      ],
      "metadata": {
        "id": "3ENJMb3lhgLO"
      },
      "execution_count": null,
      "outputs": []
    },
    {
      "cell_type": "markdown",
      "source": [
        "6. 모델 정의 + Optimizer/Scheduler"
      ],
      "metadata": {
        "id": "-wg_1ZjvhhF5"
      }
    },
    {
      "cell_type": "code",
      "source": [
        "class BERTClassifier(nn.Module):\n",
        "    def __init__(self, bert, hidden_size=768, num_classes=7, dr_rate=None):\n",
        "        super(BERTClassifier, self).__init__()\n",
        "        self.bert = bert\n",
        "        self.classifier = nn.Linear(hidden_size, num_classes)\n",
        "        self.dr_rate = dr_rate\n",
        "        if dr_rate:\n",
        "            self.dropout = nn.Dropout(p=dr_rate)\n",
        "    def gen_attention_mask(self, token_ids, valid_length):\n",
        "        attention_mask = torch.zeros_like(token_ids)\n",
        "        for i, v in enumerate(valid_length):\n",
        "            attention_mask[i][:v] = 1\n",
        "        return attention_mask.float()\n",
        "    def forward(self, token_ids, valid_length, segment_ids):\n",
        "        attention_mask = self.gen_attention_mask(token_ids, valid_length)\n",
        "        _, pooled_output = self.bert(input_ids=token_ids,\n",
        "                                     token_type_ids=segment_ids.long(),\n",
        "                                     attention_mask=attention_mask.to(token_ids.device),\n",
        "                                     return_dict=False)\n",
        "        if self.dr_rate:\n",
        "            pooled_output = self.dropout(pooled_output)\n",
        "        return self.classifier(pooled_output)\n",
        "\n",
        "model = BERTClassifier(bert_model, dr_rate=0.5).to(device)\n",
        "loss_fn = nn.CrossEntropyLoss()\n",
        "optimizer = AdamW(model.parameters(), lr=learning_rate, weight_decay=0.01)\n",
        "\n",
        "total_steps = len(train_dataloader) * epochs\n",
        "warmup_steps = int(total_steps * 0.1)\n",
        "scheduler = get_cosine_schedule_with_warmup(optimizer, num_warmup_steps=warmup_steps, num_training_steps=total_steps)"
      ],
      "metadata": {
        "id": "CU8ZhqbghgMU"
      },
      "execution_count": null,
      "outputs": []
    },
    {
      "cell_type": "markdown",
      "source": [
        "7. 학습 루프"
      ],
      "metadata": {
        "id": "MInGUm7bhnWZ"
      }
    },
    {
      "cell_type": "code",
      "source": [
        "from tqdm import tqdm\n",
        "\n",
        "def calc_accuracy(preds, labels):\n",
        "    _, pred_max = torch.max(preds, 1)\n",
        "    return (pred_max == labels).sum().item() / len(labels)\n",
        "\n",
        "def save_checkpoint(model, optimizer, epoch, path=\"./kobert_best.pt\"):\n",
        "    torch.save({\n",
        "        'epoch': epoch,\n",
        "        'model_state_dict': model.state_dict(),\n",
        "        'optimizer_state_dict': optimizer.state_dict()\n",
        "    }, path)\n",
        "\n",
        "best_val_acc = 0.0\n",
        "\n",
        "for epoch in range(epochs):\n",
        "    print(f\"\\nEpoch {epoch+1}\")\n",
        "    model.train()\n",
        "    total_loss = 0\n",
        "    train_acc = 0\n",
        "\n",
        "    for step, batch in enumerate(tqdm(train_dataloader)):\n",
        "        token_ids, valid_length, segment_ids, label = [x.to(device) for x in batch]\n",
        "        label = label.long()\n",
        "\n",
        "        optimizer.zero_grad()\n",
        "        out = model(token_ids, valid_length, segment_ids)\n",
        "        loss = loss_fn(out, label)\n",
        "        loss.backward()\n",
        "        torch.nn.utils.clip_grad_norm_(model.parameters(), max_grad_norm)\n",
        "        optimizer.step()\n",
        "        scheduler.step()\n",
        "\n",
        "        total_loss += loss.item()\n",
        "        train_acc += calc_accuracy(out, label)\n",
        "\n",
        "    avg_train_loss = total_loss / len(train_dataloader)\n",
        "    avg_train_acc = train_acc / len(train_dataloader)\n",
        "    print(f\"Train Loss: {avg_train_loss:.4f}, Accuracy: {avg_train_acc:.4f}\")\n",
        "\n",
        "    model.eval()\n",
        "    val_loss = 0\n",
        "    val_acc = 0\n",
        "\n",
        "    with torch.no_grad():\n",
        "        for batch in test_dataloader:\n",
        "            token_ids, valid_length, segment_ids, label = [x.to(device) for x in batch]\n",
        "            label = label.long()\n",
        "            out = model(token_ids, valid_length, segment_ids)\n",
        "            loss = loss_fn(out, label)\n",
        "            val_loss += loss.item()\n",
        "            val_acc += calc_accuracy(out, label)\n",
        "\n",
        "    avg_val_loss = val_loss / len(test_dataloader)\n",
        "    avg_val_acc = val_acc / len(test_dataloader)\n",
        "    print(f\"Val Loss: {avg_val_loss:.4f}, Accuracy: {avg_val_acc:.4f}\")\n",
        "\n",
        "    if avg_val_acc > best_val_acc:\n",
        "        best_val_acc = avg_val_acc\n",
        "        save_checkpoint(model, optimizer, epoch+1)\n",
        "        print(f\"Best model saved at epoch {epoch+1}\")"
      ],
      "metadata": {
        "id": "UrIZ3vCXhpmZ"
      },
      "execution_count": null,
      "outputs": []
    },
    {
      "cell_type": "markdown",
      "source": [
        "8. 라벨 포함 config 저장 및 모델 export"
      ],
      "metadata": {
        "id": "xVAJ1MrChtdT"
      }
    },
    {
      "cell_type": "code",
      "source": [
        "import os\n",
        "from transformers import AutoConfig\n",
        "\n",
        "# 라벨 정의\n",
        "labels = [\"행복\", \"놀람\", \"분노\", \"공포\", \"혐오\", \"슬픔\", \"중립\"]\n",
        "label2id = {label: idx for idx, label in enumerate(labels)}\n",
        "id2label = {idx: label for idx, label in enumerate(labels)}\n",
        "\n",
        "# config 생성\n",
        "config = AutoConfig.from_pretrained(\n",
        "    \"skt/kobert-base-v1\",\n",
        "    num_labels=len(labels),\n",
        "    id2label=id2label,\n",
        "    label2id=label2id\n",
        ")\n",
        "\n",
        "# 저장 폴더 생성\n",
        "save_path = \"./soulsync_export\"\n",
        "os.makedirs(save_path, exist_ok=True)\n",
        "\n",
        "# model의 state_dict만 저장 (pytorch 방식)\n",
        "torch.save(model.state_dict(), os.path.join(save_path, \"pytorch_model.bin\"))\n",
        "\n",
        "# config 저장\n",
        "config.save_pretrained(save_path)\n",
        "\n",
        "# tokenizer 저장\n",
        "tokenizer.save_pretrained(save_path)"
      ],
      "metadata": {
        "id": "zq9hZaknhuKD"
      },
      "execution_count": null,
      "outputs": []
    },
    {
      "cell_type": "code",
      "source": [
        "!pip install huggingface_hub"
      ],
      "metadata": {
        "id": "ODGLHPXcwXzZ"
      },
      "execution_count": null,
      "outputs": []
    },
    {
      "cell_type": "code",
      "source": [
        "from huggingface_hub import notebook_login\n",
        "\n",
        "notebook_login()"
      ],
      "metadata": {
        "id": "MTtHai76wZCj"
      },
      "execution_count": null,
      "outputs": []
    },
    {
      "cell_type": "code",
      "source": [
        "from huggingface_hub import upload_folder\n",
        "\n",
        "upload_folder(\n",
        "    repo_id=\"hzz15/soulsync\",\n",
        "    folder_path=\"./soulsync_export\",\n",
        "    path_in_repo=\".\",\n",
        "    commit_message=\"감정 라벨 포함된 KoBERT 모델 업로드\"\n",
        ")"
      ],
      "metadata": {
        "id": "U_dPSsOfxDVt"
      },
      "execution_count": null,
      "outputs": []
    }
  ]
}